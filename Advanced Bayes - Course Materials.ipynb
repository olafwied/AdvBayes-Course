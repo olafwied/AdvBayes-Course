{
 "cells": [
  {
   "cell_type": "code",
   "execution_count": 1,
   "metadata": {
    "slideshow": {
     "slide_type": "skip"
    }
   },
   "outputs": [],
   "source": [
    "%matplotlib inline"
   ]
  },
  {
   "cell_type": "markdown",
   "metadata": {
    "slideshow": {
     "slide_type": "skip"
    }
   },
   "source": [
    "## This is the notebook source material to create the course slides. View the final presentation [here](https://olafwied.github.io/AdvBayes-Course/)"
   ]
  },
  {
   "cell_type": "markdown",
   "metadata": {
    "slideshow": {
     "slide_type": "slide"
    }
   },
   "source": [
    "# Scalable Methods for Bayesian Machine Learning and Probabilistic Inference\n",
    "## And other advanced topics\n",
    "\n",
    "## © Olaf Wied 2018\n",
    "\n",
    "Note that this is intended for an advanced audience. Background in machine learning and deep learning, linear algebra and probability theory is recommended."
   ]
  },
  {
   "cell_type": "markdown",
   "metadata": {
    "slideshow": {
     "slide_type": "slide"
    }
   },
   "source": [
    "© Olaf Wied 2018\n",
    "## Scalable Methods for Bayesian Machine Learning and Probabilistic Inference\n",
    "\n",
    "# Outline\n",
    "### [Part I - Short Recap of Bayesian Basics](#/2)\n",
    "- Bayes Theorem\n",
    "- Bayesian Inference\n",
    "- Generative vs Discriminative Models\n",
    "- Bayesian Statistics\n",
    "- Priors\n",
    "- Frequentist Statistics"
   ]
  },
  {
   "cell_type": "markdown",
   "metadata": {
    "slideshow": {
     "slide_type": "subslide"
    }
   },
   "source": [
    "© Olaf Wied 2018\n",
    "\n",
    "### [Part II - Latent Variable Models and the EM Algorithm](#/11)\n",
    "\n",
    "- Kullback-Leibler Divergence\n",
    "- Latent Variable Models\n",
    "- Example: Mixture Models\n",
    "- EM Algorithm, E-Step and M-Step\n",
    "- Large Scale EM\n",
    "- Variational and Stochastic Variational Inference"
   ]
  },
  {
   "cell_type": "markdown",
   "metadata": {
    "slideshow": {
     "slide_type": "subslide"
    }
   },
   "source": [
    "© Olaf Wied 2018\n",
    "### Part III - Scalable Methods for Bayesian Learning\n",
    "- Probabilistic PCA\n",
    "- Variational Autoencoders\n",
    "- The Reparametrization Trick\n",
    "- Generative Models and Adverserial Learning"
   ]
  },
  {
   "cell_type": "markdown",
   "metadata": {
    "slideshow": {
     "slide_type": "subslide"
    }
   },
   "source": [
    "© Olaf Wied 2018\n",
    "### Part IV - Gaussian Processes and Optimization\n",
    "- Gaussian Processes\n",
    "- Bayesian Optimization\n",
    "- MCMC"
   ]
  },
  {
   "cell_type": "markdown",
   "metadata": {
    "slideshow": {
     "slide_type": "subslide"
    }
   },
   "source": [
    "© Olaf Wied 2018\n",
    "### Part V - Bayesian Deep Learning\n",
    "- Bayesian Neural Networks\n",
    "- Variational Dropout\n",
    "- Sparse Bayesian Networks"
   ]
  },
  {
   "cell_type": "markdown",
   "metadata": {
    "slideshow": {
     "slide_type": "slide"
    }
   },
   "source": [
    "© Olaf Wied 2018\n",
    "# Part I - Recap of Bayesian ML"
   ]
  },
  {
   "cell_type": "markdown",
   "metadata": {
    "slideshow": {
     "slide_type": "slide"
    }
   },
   "source": [
    "© Olaf Wied 2018 \n",
    "\n",
    "Part I - Recap of Bayesian ML\n",
    "# Bayes' Theorem\n",
    "\n",
    "\n",
    "$$p(y|x) = \\frac{p(x|y)p(y)}{p(x)} = \\frac{p(x|y)p(y)}{\\int{p(x|y)p(y) dy}}$$\n",
    "\n",
    "or in words \n",
    "\n",
    "$$Posterior = \\frac{Likelihood \\cdot Prior}{Evidence}$$"
   ]
  },
  {
   "cell_type": "markdown",
   "metadata": {
    "slideshow": {
     "slide_type": "slide"
    }
   },
   "source": [
    "© Olaf Wied 2018 \n",
    "\n",
    "Part I - Recap of Bayesian ML\n",
    "# The Inference Problem\n",
    "\n",
    "#### Problem\n",
    "Given data $X = (x_1,\\ldots,x_n)$ (iid) from $p(x|\\theta)$, infere $\\theta$.\n",
    "\n",
    "#### MLE (Maximum Likelihood Estimation)\n",
    "$$\\theta_{ML} = \\arg \\max \\prod_{i=1}^n{p(x_i|\\theta)} = \\arg \\max \\sum_{i=1}^n{\\log p(x_i|\\theta)}$$"
   ]
  },
  {
   "cell_type": "markdown",
   "metadata": {
    "slideshow": {
     "slide_type": "subslide"
    }
   },
   "source": [
    "© Olaf Wied 2018 \n",
    "\n",
    "Part I - Recap of Bayesian ML\n",
    "# The Inference Problem\n",
    "\n",
    "#### Problem\n",
    "Given data $X = (x_1,\\ldots,x_n)$ (iid) from $p(x|\\theta)$, infere $\\theta$.\n",
    "\n",
    "#### Bayesian Inference\n",
    "Encode uncertainty about $\\theta$ in terms of a **prior distribution $p(\\theta)$** and apply Bayes' theorem:\n",
    "\n",
    "$$p(\\theta|X) = \\frac{\\prod_{i=1}^n p(x_i|\\theta)p(\\theta)}{\\int \\prod_{i=1}^n p(x_i|\\theta)p(\\theta) d\\theta}$$"
   ]
  },
  {
   "cell_type": "markdown",
   "metadata": {
    "slideshow": {
     "slide_type": "fragment"
    }
   },
   "source": [
    "Bayesian Inference provides a full *posterior* distribution over $\\theta$. **Computing the mode is called \"Poor Man's Bayes\" and gives the MAP (Maximum A Posteriori) estimate.**"
   ]
  },
  {
   "cell_type": "markdown",
   "metadata": {
    "slideshow": {
     "slide_type": "subslide"
    }
   },
   "source": [
    "© Olaf Wied 2018 \n",
    "\n",
    "Part I - Recap of Bayesian ML\n",
    "# The Inference Problem\n",
    "\n",
    "#### Bayesian Inference\n",
    "Note that the evidence does not depend on $\\theta$ and therefore is irrelevant for computing the MAP estimate: $$\\theta_{MAP} = \\arg \\max p(x|\\theta)p(\\theta) = \\arg \\max \\{\\log p(x|\\theta) + \\log p(\\theta) \\}$$"
   ]
  },
  {
   "cell_type": "markdown",
   "metadata": {
    "slideshow": {
     "slide_type": "fragment"
    }
   },
   "source": [
    "**Note further that, while the likelihood depends exponentially on $n$, the prior remains constant. Hence, eventually, the data will *overwhelm the prior* and the MAP will converge towards the MLE.** Likewise, the posterior will become peaked around the MAP estimate.\n",
    "\n",
    "It is often the case, that when $n$ grows, frequentist and Bayesian perspective will yield the same result! They do not contradict each other. You should have both tools in your toolbox."
   ]
  },
  {
   "cell_type": "markdown",
   "metadata": {
    "slideshow": {
     "slide_type": "slide"
    }
   },
   "source": [
    "© Olaf Wied 2018 \n",
    "\n",
    "Part I - Recap of Bayesian ML\n",
    "# Note on MAP estimation\n",
    "\n",
    "The MAP is a popular point estimate because calculating the mode (other than the mean or median for example) is an **optimization problem**, for which we have many efficient algorithms available. However, the are **drawbacks** and I want to point out a few as a reference:\n",
    "\n",
    "- Mean or median often summarize the posterior distribution better than the mode.\n",
    "- Point estimates lack a measure of uncertainty.\n",
    "- This can lead to overfitting.\n",
    "- The MAP estimate depends on the parametrization of the distribution: Let $y=f(x)$, then $\\bar x = \\arg \\max p_x(x)$ and $\\bar y = \\arg \\max p_{y}(y)$ does not imply $\\bar y = f(\\bar x)$.\n",
    "\n",
    "(See, for example, K.P. Murphy: Machine Learning, ch. 5.2.1)"
   ]
  },
  {
   "cell_type": "markdown",
   "metadata": {
    "slideshow": {
     "slide_type": "slide"
    }
   },
   "source": [
    "© Olaf Wied 2018 \n",
    "\n",
    "Part I - Recap of Bayesian ML\n",
    "# Generative vs Discriminative Models\n",
    "\n",
    "#### Generative Models\n",
    "Model the joint distribution $p(x,y,\\theta) = p(x,y|\\theta)p(\\theta)$. This means that once we have a trained model we can generate new data $(x,y)$. \n",
    "\n",
    "Examples are *Naive Bayes* or *Generative Adversarial Networks (GANs)*.\n",
    "\n",
    "Generative models can be difficult to train, because the feature space $X$ is usually much more complicated than the label space $Y$, e.g.\n",
    "\n",
    "- In image classification, the space of all images $X$ is much more complicated than the $Y$ space of image classes.\n",
    "- However, there are other examples. In machine translation $X$ and $Y$ space are equal."
   ]
  },
  {
   "cell_type": "markdown",
   "metadata": {
    "slideshow": {
     "slide_type": "subslide"
    }
   },
   "source": [
    "© Olaf Wied 2018 \n",
    "\n",
    "Part I - Recap of Bayesian ML\n",
    "# Generative vs Discriminative Models\n",
    "\n",
    "#### Discriminative Models\n",
    "If we directly model the class posterior, e.g. $p(y=c, \\theta |x)$, we do not need to know about the distribution of the observed variables. This is called a discriminant classifier. We usually assume that the prior over the model parameters $\\theta$ does not depend on $X$, thus\n",
    "\n",
    "$$p(y,\\theta | x) = p(y | x,\\theta)p(\\theta)$$\n",
    "\n",
    "A basic example is *Logistic Regression*."
   ]
  },
  {
   "cell_type": "markdown",
   "metadata": {
    "slideshow": {
     "slide_type": "subslide"
    }
   },
   "source": [
    "© Olaf Wied 2018 \n",
    "\n",
    "Part I - Recap of Bayesian ML\n",
    "# Generative vs Discriminative Models\n",
    "\n",
    "Both have advantages and disadvantages! Again, have both in your toolbox.\n",
    "\n",
    "Generative Classifiers impose more strict assumptions on the model. If the assumptions are correct, generatives models can be trained **faster and with less data**. But, joint distributions are harder to estimate and lead to uncertainty, therefore **discriminative models are often more accurate**. \n",
    "\n",
    "Models like Naive Bayes can be trained extremely easily by simply counting. However, the strong assumptions are often not met and lead to ill-calibrated probability outputs.\n",
    "\n",
    "Generative models, however, have the advantage to be able to **deal with missing data** and can be extended more easily to semi-supervised learning. (See, for example, B. Marlin (2008): Missing Data Problems in Machine Learning)\n",
    "\n",
    "Discriminative models, since they do not care about the distribution of the data, have the advantage that they allow arbitrary **feature preprocessing**. "
   ]
  },
  {
   "cell_type": "markdown",
   "metadata": {
    "slideshow": {
     "slide_type": "slide"
    }
   },
   "source": [
    "© Olaf Wied 2018 \n",
    "\n",
    "Part I - Recap of Bayesian ML\n",
    "# Features of Bayesian Statistics\n",
    "\n",
    "#### Sequential Learning\n",
    "Bayesian inference can be done sequentially or in batches which makes it a great candidate for **online or minibatch learning**, the preferred method when dealing with large datasets.\n",
    "\n",
    "- Define Prior\n",
    "\n",
    "```R\n",
    "Posterior <- Likelihood x Prior\n",
    "(New) Prior <- Posterior\n",
    "```\n",
    "\n",
    "- Observe new data\n",
    "\n",
    "```R\n",
    "Update Likelihood\n",
    "(New) Posterior <- Likelihood x (New) Prior\n",
    "```\n",
    "\n",
    "- Repeat\n"
   ]
  },
  {
   "cell_type": "markdown",
   "metadata": {
    "slideshow": {
     "slide_type": "subslide"
    }
   },
   "source": [
    "© Olaf Wied 2018 \n",
    "\n",
    "Part I - Recap of Bayesian ML\n",
    "# Features of Bayesian Statistics\n",
    "\n",
    "#### Bayesian Inference as Ensemble Learning\n",
    "\n",
    "Suppose we work with training data $(X_{tr}, Y_{tr})$ and a discriminator $p(Y,\\theta | X)$."
   ]
  },
  {
   "cell_type": "markdown",
   "metadata": {
    "slideshow": {
     "slide_type": "fragment"
    }
   },
   "source": [
    "Training the model consists of calculating \n",
    "\n",
    "$$p(\\theta | X_{tr}, Y_{tr}) = \\frac{p(Y_{tr}|X_{tr},\\theta)p(\\theta)}{\\int p(Y_{tr}|X_{tr},\\theta)p(\\theta)d\\theta}$$\n",
    "\n",
    "This is an **ensemble** of models over the distribution of $\\theta$."
   ]
  },
  {
   "cell_type": "markdown",
   "metadata": {
    "slideshow": {
     "slide_type": "fragment"
    }
   },
   "source": [
    "At test time, we perform **model averageing** via the posterior over $\\theta$:\n",
    "\n",
    "$$p(y_{test}|x_{test},X_{tr},Y_{tr}) = \\int p(y_{test}|x_{test},\\theta)p(\\theta|X_{tr},Y_{tr})d\\theta$$"
   ]
  },
  {
   "cell_type": "markdown",
   "metadata": {
    "slideshow": {
     "slide_type": "subslide"
    }
   },
   "source": [
    "© Olaf Wied 2018 \n",
    "\n",
    "Part I - Recap of Bayesian ML\n",
    "# Features of Bayesian Statistics\n",
    "\n",
    "#### Intractability\n",
    "Model averageing outperforms a single model in the $\\theta$ family (e.g. the MAP model $\\arg \\max_{\\theta} p(\\theta|X,Y)$ or a model found through cross-validation) since the full posterior contains all information about $X$ and $Y$ that the model can detect.\n",
    "\n",
    "However, the **integrals** that appear during training and test are usually **intractable**!"
   ]
  },
  {
   "cell_type": "markdown",
   "metadata": {
    "slideshow": {
     "slide_type": "fragment"
    }
   },
   "source": [
    "There is one family of exception: conjugate priors! We will talk more about these in the next segment (to the right).\n",
    "\n",
    "For now, remember that distributions $p(y)$ and $p(x|y)$ are **conjugate** iff $p(y|x)$ belongs to the same (parametric) family as $p(y)$. If so, the formulas above will have **closed-form solutions**!"
   ]
  },
  {
   "cell_type": "markdown",
   "metadata": {
    "slideshow": {
     "slide_type": "subslide"
    }
   },
   "source": [
    "© Olaf Wied 2018 \n",
    "\n",
    "Part I - Recap of Bayesian ML\n",
    "# Features of Bayesian Statistics\n",
    "\n",
    "#### Intractability\n",
    "For models where this is intractable, approximate methods exist based on sampling methods like MCMC or variational apprxoimations.\n",
    "\n",
    "Variational inference is based on the idea to pick a tractable family of approximations to the posterior and then pick the one that is closest to the true posterior, e.g. by minimizing the Kulback-Leibler distance between the two.\n",
    "\n",
    "We will discuss these methods and scalable versions of them in following chapters."
   ]
  },
  {
   "cell_type": "markdown",
   "metadata": {
    "slideshow": {
     "slide_type": "subslide"
    }
   },
   "source": [
    "© Olaf Wied 2018 \n",
    "\n",
    "Part I - Recap of Bayesian ML\n",
    "# Features of Bayesian Statistics\n",
    "\n",
    "#### Model Selection, Overfitting and Regularization\n",
    "\n",
    "As mentioned, for large datasets MAP estimates and full Bayesian posteriors lead to similar results, but they can be very different for small or ambiguous datasets. In such a case, the posterior will be vague, which leads to a very broad (or uninformative) predictive distribution. However, just using the MAP model (or *plug-in aproximation*) is simple, but can underestimate the uncertainty. The Bayesian approach has the nice property that it **starts out broad** and becomes narrower as we become more certain or see more data. This coincides better with our intuitive understanding. Starting out broadly can prevent overfitting!\n",
    "\n",
    "The Bayesian approach also has the advantage that it can **incorporate regularization** within the Bayesian framework by prescriping appropriate priors, e.g.\n",
    "\n",
    "- Lasso and Ridge Regression, for example, can be seen as specially cases with Laplace and Gaussian priors.\n",
    "- In models based on count values, like Naive Bayes for word counts, priors can naturally prevent Black-Swan type paradoxes when the model encounters a previously unseen word (which can otherwise lead to zero probabilities)"
   ]
  },
  {
   "cell_type": "markdown",
   "metadata": {
    "slideshow": {
     "slide_type": "subslide"
    }
   },
   "source": [
    "© Olaf Wied 2018 \n",
    "\n",
    "Part I - Recap of Bayesian ML\n",
    "# Features of Bayesian Statistics\n",
    "\n",
    "#### Scalability\n",
    "Scalability has traditionally been an issue for Bayesian methods. However, tools have emerged that make variational and MCMC inference scalable. \n",
    "\n",
    "We will present some of these in the following chapters.\n"
   ]
  },
  {
   "cell_type": "markdown",
   "metadata": {
    "slideshow": {
     "slide_type": "slide"
    }
   },
   "source": [
    "© Olaf Wied 2018 \n",
    "\n",
    "Part I - Recap of Bayesian ML\n",
    "# Priors\n",
    "\n",
    "One hotly debated issue of Bayesian statistics is the use of priors. For Bayesians this is necessary because nobody operates in a vacuum. However, there are some ways to reduce the impact of one's prior assumptions, e.g. using **uninformative priors**.\n",
    "\n",
    "**Conjugate priors** simplify computations and are often easy to interpret. As a reference, we provide the standard example of the **beta-binomial model**, which models the **probability to see heads in a series of coin flips**. Let $X_i \\sim Ber(\\theta), \\theta \\in [0,1]$"
   ]
  },
  {
   "cell_type": "markdown",
   "metadata": {
    "slideshow": {
     "slide_type": "fragment"
    }
   },
   "source": [
    "- **Likelihood**: $p(X|\\theta) = \\theta^{N_{head}}(1-\\theta)^{N_{tail}}$, with $N_{head} \\sim Bin(N_{head}+N_{tail}, \\theta)$ (the binomial distribution)"
   ]
  },
  {
   "cell_type": "markdown",
   "metadata": {
    "slideshow": {
     "slide_type": "fragment"
    }
   },
   "source": [
    " - The **conjugate prior** of the Bernoulli distribution is the Beta distribution\n",
    "  - $p(\\theta) \\propto \\theta^{a-1}(1-\\theta)^{b-1} \\propto Beta(\\theta|a,b)$, note that $a$ and $b$ are called hyper-parameters\n",
    "  - If we have no prior knowledge of $\\theta$ we can choose the uniform distribution which is given via $Beta(\\theta|1,1)$ (see plot below). This is a way to implement an **uninformative prior** (more later)."
   ]
  },
  {
   "cell_type": "code",
   "execution_count": 23,
   "metadata": {
    "slideshow": {
     "slide_type": "subslide"
    }
   },
   "outputs": [
    {
     "data": {
      "text/plain": [
       "<matplotlib.legend.Legend at 0x20b755f6f28>"
      ]
     },
     "execution_count": 23,
     "metadata": {},
     "output_type": "execute_result"
    },
    {
     "data": {
      "image/png": "[encoded data removed]",
      "text/plain": [
       "<Figure size 432x288 with 1 Axes>"
      ]
     },
     "metadata": {},
     "output_type": "display_data"
    }
   ],
   "source": [
    "import matplotlib.pyplot as plt\n",
    "import numpy as np\n",
    "from scipy.stats import beta\n",
    "fig, ax = plt.subplots(1, 1)\n",
    "x = np.linspace(beta.ppf(0.01, a, b), beta.ppf(0.99, a, b), 100)\n",
    "ax.plot(x, beta.pdf(x, 1, 1),\n",
    "       'r-', lw=2, alpha=0.6, label='beta a=1 b=1')\n",
    "ax.plot(x, beta.pdf(x, 2, 2),\n",
    "       'b-', lw=2, alpha=0.6, label='beta a=2 b=2')\n",
    "ax.plot(x, beta.pdf(x, 1, 2),\n",
    "       'g-', lw=2, alpha=0.6, label='beta a=1 b=2')\n",
    "ax.plot(x, beta.pdf(x, 3, 1),\n",
    "       'y-', lw=2, alpha=0.6, label='beta a=3 b=1')\n",
    "ax.legend()\n",
    "plt.show()"
   ]
  },
  {
   "cell_type": "markdown",
   "metadata": {
    "slideshow": {
     "slide_type": "subslide"
    }
   },
   "source": [
    "© Olaf Wied 2018 \n",
    "\n",
    "Part I - Recap of Bayesian ML\n",
    "# Priors\n",
    "\n",
    "- Likelihood: $p(X|\\theta) = \\theta^{N_{head}}(1-\\theta)^{N_{tail}}$, with $N_{head} \\sim Bin(N_{head}+N_{tail}, \\theta)$\n",
    "- Conjugate prior: $p(\\theta) \\propto Beta(\\theta|a,b)$\n",
    " \n",
    "- **Posterior**: Multiplying likelihood and prior amounts to adding the exponents and yields $\\propto Beta(\\theta|N_{head}+a, N_{tail}+b)$"
   ]
  },
  {
   "cell_type": "markdown",
   "metadata": {
    "slideshow": {
     "slide_type": "fragment"
    }
   },
   "source": [
    "The hyper-parameters of the prior, $a$ and $b$, are therefore called **pseduo-counts**. The total strength of the prior is determined by the sum of pseduo-heads and pseudo-tails $a+b$.\n",
    "\n",
    "We can see, again, how Bayesian inference works well sequentially. Updating the posterior is simply adding the new counts of heads and tails to the prior counts.\n",
    "\n",
    "Note that priors need not necessarily be **proper** distributions (i.e. integrate to 1). This is possible as long as the posterior is proper!"
   ]
  },
  {
   "cell_type": "markdown",
   "metadata": {
    "slideshow": {
     "slide_type": "subslide"
    }
   },
   "source": [
    "© Olaf Wied 2018 \n",
    "\n",
    "Part I - Recap of Bayesian ML\n",
    "# Priors\n",
    "#### Jeffreys prior\n",
    "\n",
    "**Jeffreys priors** are a general purpose technique to design **uninformative** priors. The key insight behind Jeffreys priors is that uninformative priors should be invariant under reparametrization. One can show that this can be achieved when the prior is proportional to the square root of the determinant of the **Fisher information**:\n",
    "\n",
    "$$ p(\\theta) \\propto \\sqrt{\\det \\mathcal{I}(\\theta)} $$\n",
    "\n",
    "Note that the Fisher information is not the only choice with this property. Also, remember that Jeffreys priors can be improper. For example, the Jeffreys prior for the Gaussian mean parameter $\\mu$ (with fixed standard deviation) is $1$ and independent of $\\mu$."
   ]
  },
  {
   "cell_type": "markdown",
   "metadata": {
    "slideshow": {
     "slide_type": "subslide"
    }
   },
   "source": [
    "© Olaf Wied 2018 \n",
    "\n",
    "Part I - Recap of Bayesian ML\n",
    "# Priors\n",
    "#### Jeffreys prior\n",
    "\n",
    "Let's revisit the example of the beta-binomial model where we previously suggested a uniform, or $Beta(1,1)$, distribution over $[0,1]$ as an uninformative prior.\n",
    "\n",
    "We will show that the Jeffreys prior for $X \\sim Ber(\\theta)$ is actually $Beta(\\frac{1}{2},\\frac{1}{2})$:"
   ]
  },
  {
   "cell_type": "markdown",
   "metadata": {
    "slideshow": {
     "slide_type": "subslide"
    }
   },
   "source": [
    "© Olaf Wied 2018 \n",
    "\n",
    "Part I - Recap of Bayesian ML\n",
    "# Priors\n",
    "#### Jeffreys prior\n",
    "The log-likelihood is $p(X|\\theta) = X\\log\\theta + (1-X)\\log(1-\\theta)$ with derivative $\\frac{X}{\\theta}-\\frac{1-X}{1-\\theta}$.\n",
    "The second derivative is $J(\\theta) = -\\frac{X}{\\theta^2}-\\frac{1-X}{(1-\\theta)^2}$.\n",
    "\n",
    "The Fisher information is then \n",
    "\n",
    "$$\\mathcal{I}(\\theta) = \\mathbb{E} \\left[ -J(\\theta|X) \\mid X\\sim\\theta\\right] = \\frac{\\theta}{\\theta^2} + \\frac{1-\\theta}{(1-\\theta)^2} = \\frac{1}{\\theta(1-\\theta)}$$\n",
    "\n",
    "and, hence, Jeffreys prior is \n",
    "\n",
    "$$p(\\theta) \\propto \\frac{1}{\\sqrt{\\theta(1-\\theta)}} \\propto Beta(\\frac{1}{2},\\frac{1}{2})$$"
   ]
  },
  {
   "cell_type": "markdown",
   "metadata": {
    "slideshow": {
     "slide_type": "subslide"
    }
   },
   "source": [
    "© Olaf Wied 2018 \n",
    "\n",
    "Part I - Recap of Bayesian ML\n",
    "# Priors\n",
    "\n",
    "#### Robust Priors and Mixtures of Conjugate Priors\n",
    "If we have prior assumptions but are not very confident in them, it makes sense to use **robust priors** which have heavy tails and are less peaked around the prior mean! Since they can be computationally disadvantageous, one can resort to **mixtures of conjugate priors** (which are again conjugate) by introducing a latent mixture variable to approximate a desired distribution.\n",
    "\n",
    "In our beta-binomial model, for example, we could introduce a prior \n",
    "\n",
    "$$p(\\theta) = \\frac{1}{2} \\cdot Beta(\\theta|10,10) + \\frac{1}{2} \\cdot Beta(\\theta|20,10)$$\n",
    "\n",
    "This would allow us to model a situtation where we believe the coin is either fair *or* biased towards heads! It is easy to show that the posterior would also be a mixture of $Beta$ dsitributions."
   ]
  },
  {
   "cell_type": "markdown",
   "metadata": {
    "slideshow": {
     "slide_type": "slide"
    }
   },
   "source": [
    "© Olaf Wied 2018 \n",
    "\n",
    "Part I - Recap of Bayesian ML\n",
    "# Features of Frequentist Statistics\n",
    "\n",
    "Frequentist statistics **avoids priors and using the Bayes rule** by using sampling distributions instead of treating parameters as random variables. The **sampling distribution** is the distribution of an estimator when applied to multiple datasets sampled from the true (but unknown) distribution. \n",
    "\n",
    "Frequentist statistics is the **dominant paradigm used in machine learning**. \n",
    "\n",
    "We will discuss a few basic concepts of frequentist statistics for reasons of comparison."
   ]
  },
  {
   "cell_type": "markdown",
   "metadata": {
    "slideshow": {
     "slide_type": "subslide"
    }
   },
   "source": [
    "© Olaf Wied 2018 \n",
    "\n",
    "Part I - Recap of Bayesian ML\n",
    "# Features of Frequentist Statistics\n",
    "#### The Sampling Distribution\n",
    "\n",
    "To compute a parameter estimate $\\hat \\theta$, we apply an estimator $\\Gamma$ to some dataset $X$: $\\hat \\theta = \\Gamma(X)$. $\\theta$ is fixed. $X$ is random. (In the Bayesian framework $\\theta$ is random and the data is fixed.) Uncertainty is measured by the sampling distribution of the estimator.\n",
    "\n",
    "One way to approximate the sampling distribution from $X$ is the **bootstrap** which repeatedly samples (either with replacement or parametric using $\\hat \\theta$) from the dataset $X$."
   ]
  },
  {
   "cell_type": "markdown",
   "metadata": {
    "slideshow": {
     "slide_type": "subslide"
    }
   },
   "source": [
    "© Olaf Wied 2018 \n",
    "\n",
    "Part I - Recap of Bayesian ML\n",
    "# Features of Frequentist Statistics\n",
    "#### Model Selection\n",
    "\n",
    "Again, in frequentist theory the parameter is fixed and the data is random and in Bayesian theory the parameter is random, Thus, frequentist decision theory relies on $p(X|\\theta^*)$ ($\\theta^*$ being the \"true\" parameter) while Bayesian theory relies on $p(\\theta|X,\\epsilon)$. Note that $\\theta^*$ is unkown. This is not an issue in the Bayesian approach where we average over the unkown parameter and condition on the data.\n",
    "\n",
    "Frequentist statistics can therefore not directly select the best estimator for an unkown parameter $\\theta$. It circumvents this problem by looking at a situation where observable quantaties (think input features to a supervised classification problem) and their true responses (think corresponding labels) are available. \n",
    "\n",
    "This gives rise to the framework of **Empircal Risk Minimization**. The risk can be upper-bounded using **Statistical Learning Theory** (e.g. using **Vapnik-Chervonenkis** dimension etc.). Estimators are chosen using **cross-validation (CV)**. I assume familiarity with these topics and do not provide further details, but want to emphasize the different perspectives."
   ]
  },
  {
   "cell_type": "markdown",
   "metadata": {
    "slideshow": {
     "slide_type": "subslide"
    }
   },
   "source": [
    "© Olaf Wied 2018 \n",
    "\n",
    "Part I - Recap of Bayesian ML\n",
    "# Features of Frequentist Statistics\n",
    "\n",
    "Frequentist statistics has many flaws. Mainly that when computing likelihoods, it relies on some future, hypothetical distribution instead of only observable data as in the case of Bayesian statistics. \n",
    "\n",
    "This somewhat unintitive approach is, however, very successful for a reason. It is often computationally more efficient and flexible. Also, remember that frequentist and Bayesian statistics lead to similar or the same results in a wide variety of scenarios! "
   ]
  },
  {
   "cell_type": "markdown",
   "metadata": {
    "slideshow": {
     "slide_type": "slide"
    }
   },
   "source": [
    "© Olaf Wied 2018 \n",
    "\n",
    "Part I - Recap of Bayesian ML\n",
    "# Further reading\n",
    "\n",
    "The previous slides only provide a brief summary of some(!) of the basic concepts and terminology encountered in Bayesian Statistics. If you are unfamiliar with many of these concepts, I recommend a look at \"Bayesian Data Analysis\" by Gelman et al. and Murphy's \"Machine Learning (A Probabilistic Perspective)\" before moving on. A lot of the previous slides follow their presentation."
   ]
  },
  {
   "cell_type": "markdown",
   "metadata": {
    "slideshow": {
     "slide_type": "slide"
    }
   },
   "source": [
    "© Olaf Wied 2018\n",
    "# Part II - Latent Variable Models and the EM Algorithm"
   ]
  },
  {
   "cell_type": "markdown",
   "metadata": {
    "slideshow": {
     "slide_type": "slide"
    }
   },
   "source": [
    "© Olaf Wied 2018 \n",
    "\n",
    "Part II - Latent Variable Models and the EM Algorithm\n",
    "# Kullback-Leibler Divergence\n",
    "\n",
    "#### Motivation\n",
    "In Part I, it was mentioned that we often want to find computationally more efficient approximations to distributions like the posterior. Therefore, we need a measure of dissimilarity between two distributions. This is what the **Kullback-Leibler (KL) divergence** provides. Before we recap the definition and essential properties, we give a brief review of the concept of **entropy**, which is closely related to the KL divergence."
   ]
  },
  {
   "cell_type": "markdown",
   "metadata": {
    "slideshow": {
     "slide_type": "fragment"
    }
   },
   "source": [
    "**Notation**: We will denote the entropy of a random variable $X$ as $\\mathbb{H}(X)$ and the KL divergence by $\\mathbb{KL}(p||q)$ for two distributions $p$ and $q$."
   ]
  },
  {
   "cell_type": "markdown",
   "metadata": {
    "slideshow": {
     "slide_type": "subslide"
    }
   },
   "source": [
    "© Olaf Wied 2018 \n",
    "\n",
    "Part II - Latent Variable Models and the EM Algorithm\n",
    "#### Entropy\n",
    "\n",
    "The entropy of a random variable $X$ with distribution $p$ is an uncertainty measure:\n",
    "\n",
    "$$\\mathbb{H}(X) \\mathrel{\\vcenter{:=}} -\\mathbb{E}\\log(p)$$\n",
    "\n",
    "For a discrete variable this would be\n",
    "\n",
    "$$\\mathbb{H}(X) = - \\sum_{n=1}^N p(X=n) \\log\\left(p(X=n)\\right)$$\n",
    "\n",
    "The most common choice for the base of the logarithm is 2. It is then said that the entropy is measured in **bits**."
   ]
  },
  {
   "cell_type": "markdown",
   "metadata": {
    "slideshow": {
     "slide_type": "subslide"
    }
   },
   "source": [
    "© Olaf Wied 2018 \n",
    "\n",
    "Part II - Latent Variable Models and the EM Algorithm\n",
    "#### Entropy\n",
    "\n",
    "The uniform distribution has maximum entropy (because every value is equally likely, which leads to maximum uncertainty). A discrete distribution with $p(X=d)=1$ has minimum entropy because there is no uncertainty about its distribution!"
   ]
  },
  {
   "cell_type": "markdown",
   "metadata": {
    "slideshow": {
     "slide_type": "fragment"
    }
   },
   "source": [
    "Next we will further illustrate this idea by looking at the **binary entropy function** for a binary variable $X$ that can take two values $0$ and $1$ with $p(X=1)=\\theta = 1-p(X=0)$.\n",
    "\n",
    "$$\\mathbb{H}(X) = -\\sum_{n=0}^1 p(X=n)\\log(p(X=n)) = -\\theta\\log\\theta-(1-\\theta)\\log(1-\\theta)$$\n",
    "\n",
    "For which $\\theta$ do we achieve maximum and minimum entropy?"
   ]
  },
  {
   "cell_type": "code",
   "execution_count": null,
   "metadata": {
    "slideshow": {
     "slide_type": "skip"
    }
   },
   "outputs": [],
   "source": [
    "import matplotlib.pyplot as plt\n",
    "import numpy as np\n",
    "fig, ax = plt.subplots(1, 1)\n",
    "def binary_cross_entropy(theta):\n",
    "    return -theta*np.log2(theta)-(1-theta)*np.log2(1-theta)\n",
    "\n",
    "theta = np.linspace(2**-15,1, 1000, endpoint=False)\n",
    "ax.plot(theta, binary_cross_entropy(theta), 'r-', lw=2)\n",
    "ax.set_xlabel(r\"$P(X=1) = \\theta$\")\n",
    "ax.set_title(\"Entropy of Bernoulli Variable\")\n",
    "plt.show()"
   ]
  },
  {
   "cell_type": "code",
   "execution_count": 3,
   "metadata": {
    "slideshow": {
     "slide_type": "subslide"
    }
   },
   "outputs": [
    {
     "data": {
      "image/png": "[encoded data removed]",
      "text/plain": [
       "<Figure size 432x288 with 1 Axes>"
      ]
     },
     "metadata": {},
     "output_type": "display_data"
    }
   ],
   "source": [
    "#For which theta do we achieve maximum and minimum entropy? Why?"
   ]
  },
  {
   "cell_type": "markdown",
   "metadata": {
    "slideshow": {
     "slide_type": "subslide"
    }
   },
   "source": [
    "© Olaf Wied 2018 \n",
    "\n",
    "Part II - Latent Variable Models and the EM Algorithm\n",
    "#### Entropy\n",
    "\n",
    "This makes intuitive sense. If the probability of heads or tails is 1, there is no uncertainty about the result of the next coin flip. The uncertainty is maximal when both outcomes are equally likely for $\\theta = 0.5$.\n"
   ]
  },
  {
   "cell_type": "markdown",
   "metadata": {
    "slideshow": {
     "slide_type": "fragment"
    }
   },
   "source": [
    "From an information theory background, $\\log_2$ is a natural choice. We saw above that a fair coin toss has an entropy of 1. Similarly, $n$ (fair) coin tosses have an entropy of $n$ bits. Note that rare events have lower entropy because they are less \"surprising\" and carry less information."
   ]
  },
  {
   "cell_type": "markdown",
   "metadata": {
    "slideshow": {
     "slide_type": "subslide"
    }
   },
   "source": [
    "© Olaf Wied 2018 \n",
    "\n",
    "Part II - Latent Variable Models and the EM Algorithm\n",
    "#### KL divergence\n",
    "\n",
    "$$\\mathbb{KL}(q||p) \\mathrel{\\vcenter{:=}} \\mathbb{E}_q \\log\\frac{q(x)}{p(x)} = \\int{q(x)\\log\\frac{q(x)}{p(x)} dx} \\, \\text{ or (in the discrete case) } \\, \\sum_{n=1}^N q(x_n) \\log\\frac{q(x_n)}{p(x_n)} $$\n",
    "\n",
    "Note that the KL divergence is **not symmetric** and $q$ and $p$ have to be **defined over the same domain**!"
   ]
  },
  {
   "cell_type": "markdown",
   "metadata": {
    "slideshow": {
     "slide_type": "fragment"
    }
   },
   "source": [
    "If we define the **cross-entropy** as $\\mathbb{H}(q,p) \\mathrel{\\vcenter{:=}} - \\mathbb{E}_q \\log p(x)$ we can decompose the KL divergence into two parts:\n",
    "\n",
    "$$\\mathbb{KL}(q||p) \\mathrel{\\vcenter{:=}} \\mathbb{E}_q \\log\\frac{q(x)}{p(x)} = \\mathbb{E}_q \\log q(x) - \\mathbb{E}_q \\log p(x)= -\\mathbb{H}(q) + \\mathbb{H}(q,p)$$"
   ]
  },
  {
   "cell_type": "markdown",
   "metadata": {
    "slideshow": {
     "slide_type": "subslide"
    }
   },
   "source": [
    "© Olaf Wied 2018 \n",
    "\n",
    "Part II - Latent Variable Models and the EM Algorithm\n",
    "#### KL divergence\n",
    "\n",
    "We can **interpret** this difference between cross-entropy and entropy **as the number of extra bits** needed to describe the data coming from distribution $q$ when we use $p$ instead of the true distribution $q$."
   ]
  },
  {
   "cell_type": "markdown",
   "metadata": {
    "slideshow": {
     "slide_type": "fragment"
    }
   },
   "source": [
    "Applying **Jensen's inequality** to the logarithm, one can easily show that **the KL divergence is non-negative**. (This should make sense if we keep in mind the *extra* bit interpretation.)"
   ]
  },
  {
   "cell_type": "markdown",
   "metadata": {
    "slideshow": {
     "slide_type": "fragment"
    }
   },
   "source": [
    "Now, remembering our goal of approximating one distribution with another, what would be the **effect of minimizing the KL divergence with respect to $q$**? \n",
    "\n",
    "From the definition $\\int{q(x)\\log\\frac{q(x)}{p(x)} dx}$ we can see that the approximation needs to be particularly good where $q(x)$ has large values!"
   ]
  },
  {
   "cell_type": "code",
   "execution_count": 25,
   "metadata": {
    "slideshow": {
     "slide_type": "skip"
    }
   },
   "outputs": [
    {
     "data": {
      "image/png": "[encoded data removed]",
      "text/plain": [
       "<Figure size 432x288 with 1 Axes>"
      ]
     },
     "metadata": {},
     "output_type": "display_data"
    }
   ],
   "source": [
    "import matplotlib.pyplot as plt\n",
    "import numpy as np\n",
    "from scipy.stats import norm\n",
    "\n",
    "fig, ax = plt.subplots(1, 1)\n",
    "\n",
    "x1 = np.linspace(-10,10,100)\n",
    "x2 = np.linspace(-10,10,100)\n",
    "x3 = np.linspace(-10,10,100)\n",
    "y1 = norm.pdf(x1, loc=5, scale=2)\n",
    "y2 = norm.pdf(x2, loc=-5, scale=1)\n",
    "y3 = norm.pdf(x3, loc=-5.2, scale=2.1)\n",
    "\n",
    "ax.plot(x1, 0.5*y1+0.5*y2, 'r-', lw=2,alpha=0.8)\n",
    "ax.plot(x3,y3, 'b-', lw=2,alpha=0.8)\n",
    "#ax.set_xlabel(r\"$P(X=1) = \\theta$\")\n",
    "#ax.set_title(\"Entropy of Bernoulli Variable\")\n",
    "plt.axis('off')\n",
    "plt.show()"
   ]
  },
  {
   "cell_type": "code",
   "execution_count": 26,
   "metadata": {
    "slideshow": {
     "slide_type": "subslide"
    }
   },
   "outputs": [
    {
     "data": {
      "image/png": "[encoded data removed]",
      "text/plain": [
       "<Figure size 432x288 with 1 Axes>"
      ]
     },
     "metadata": {},
     "output_type": "display_data"
    }
   ],
   "source": [
    "#Minimize KL(q||p) w.r.t. q: What if p=blue? What if p=red?"
   ]
  },
  {
   "cell_type": "markdown",
   "metadata": {
    "slideshow": {
     "slide_type": "slide"
    }
   },
   "source": [
    "© Olaf Wied 2018 \n",
    "\n",
    "Part II - Latent Variable Models and the EM Algorithm\n",
    "\n",
    "# Latent Variable Models\n",
    "\n",
    "#### Motivation\n",
    "A central part of probabilistic modeling is the question of how to define the joint distribution $p(X|\\theta)$ in the non-trivial case of correlated variables (say pixels in an image). One main approach to tackling this problem are **graphical models** (e.g. Bayes belief networks). In graphical models we achieve computational efficiency by introducing conditional independence relations between variables (these are basically the missing edges between nodes in a graph)."
   ]
  },
  {
   "cell_type": "markdown",
   "metadata": {
    "slideshow": {
     "slide_type": "fragment"
    }
   },
   "source": [
    "A second approach are **Latent Variable Models (LVM)**, which we discuss in this (and also following) part(s). \n",
    "\n",
    "LVMs \"abstract away\" correlations by assuming a common (hidden) cause and introducing a corresponding hidden (latent) variable."
   ]
  },
  {
   "cell_type": "markdown",
   "metadata": {
    "slideshow": {
     "slide_type": "subslide"
    }
   },
   "source": [
    "© Olaf Wied 2018 \n",
    "\n",
    "Part II - Latent Variable Models and the EM Algorithm\n",
    "\n",
    "#### Motivation\n",
    "\n",
    "LVMs can be hard to fit because hidden, unobservable variables pose their own challenges. However, they have the advantage that introducing latent variables can dramatically reduce the total number of parameters in a model! "
   ]
  },
  {
   "cell_type": "markdown",
   "metadata": {
    "slideshow": {
     "slide_type": "fragment"
    }
   },
   "source": [
    "By compressing correlations between variables into a latent variable, LVMs can achieve compact representations of the data. This is the basis for models like Probabilistic PCA (see Part III for more details and a continuation of the ideas in Part II)."
   ]
  },
  {
   "cell_type": "markdown",
   "metadata": {
    "slideshow": {
     "slide_type": "subslide"
    }
   },
   "source": [
    "© Olaf Wied 2018 \n",
    "\n",
    "Part II - Latent Variable Models and the EM Algorithm\n",
    "\n",
    "#### Examples\n",
    "\n",
    "Popular Latent Variable Models include \n",
    "\n",
    "- **Mixture Models** (next section)\n",
    "- [**Latent Dirichlet Allocation**](https://en.wikipedia.org/wiki/Latent_Dirichlet_allocation)\n",
    "- **Probabilisitic PCA** and ICA (Part III)"
   ]
  },
  {
   "cell_type": "markdown",
   "metadata": {
    "slideshow": {
     "slide_type": "slide"
    }
   },
   "source": [
    "© Olaf Wied 2018 \n",
    "\n",
    "Part II - Latent Variable Models and the EM Algorithm\n",
    "\n",
    "# Mixture Models\n",
    "#### Definition\n",
    "\n",
    "Mixture Models are simple forms of LVM and therefore good candidates to explain the inference in LVMs.\n",
    "\n",
    "For now, we assume a discrete latent variable, even though a continuous mixture of variables is encountered in many models, in particular for representation learning, as we will see in later chapters."
   ]
  },
  {
   "cell_type": "markdown",
   "metadata": {
    "slideshow": {
     "slide_type": "fragment"
    }
   },
   "source": [
    "A (discrete) mixture model is a convex combination of $K$ **base distributions** where the latent variable $z_i \\in \\{1,\\ldots,K\\}$ indicates from which of the distributions $x_i$ was generated.\n",
    "    \n",
    "$$p(x_i|\\theta) = \\sum_{k=1}^K p(z_i=k) \\cdot p(x_i|z_i=k)$$\n",
    "\n",
    "The prior $p(z_i)$ follows a simple categorical distribution i.e. $\\sum_{k=1}^K p(z_i=k)=1 \\text{ and } p(z_i=k)\\geq 0$."
   ]
  },
  {
   "cell_type": "markdown",
   "metadata": {
    "slideshow": {
     "slide_type": "subslide"
    }
   },
   "source": [
    "© Olaf Wied 2018 \n",
    "\n",
    "Part II - Latent Variable Models and the EM Algorithm\n",
    "\n",
    "#### Applications\n",
    "\n",
    "Mixture models can be used for multiple purposes such as **density estimation**, e.g. to build a **generative classifier** where the class-conditional distributions $p(x_i|z_i=class_k)$ are given by a mixture distribution."
   ]
  },
  {
   "cell_type": "markdown",
   "metadata": {
    "slideshow": {
     "slide_type": "fragment"
    }
   },
   "source": [
    "Mixture models can also be used for **clustering** by estimating the posterior probability $p(z_i=cluster_k|x_i,\\theta)$ that $x_i$ belongs the cluster $k$."
   ]
  },
  {
   "cell_type": "markdown",
   "metadata": {
    "slideshow": {
     "slide_type": "subslide"
    }
   },
   "source": [
    "© Olaf Wied 2018 \n",
    "\n",
    "Part II - Latent Variable Models and the EM Algorithm\n",
    "\n",
    "#### Applications\n",
    "The two applications are identical models with the **only difference** that, for clustering, we do not observe $z_i$ **during training**!\n",
    "\n",
    "If the parameters are known (or the model is trained\\*) we can compute the posterior probability of $x_i$ belong to cluster $k$ using the Bayes' theorem (see Part I):\n",
    "\n",
    "$$ p(z_i=k|x_i,\\theta) = \\frac{p(z_i=k|\\theta)\\cdot p(x_i|z_i=k,\\theta)}{\\sum_{l=1}^K p(z_i=l|\\theta)\\cdot p(x_i|z_i=l,\\theta)}$$\n",
    "\n",
    "\n",
    "\\*We will discuss *parameter estimation* in the next section in the context of Gaussian Mixtures."
   ]
  },
  {
   "cell_type": "markdown",
   "metadata": {
    "slideshow": {
     "slide_type": "slide"
    }
   },
   "source": [
    "© Olaf Wied 2018 \n",
    "\n",
    "Part II - Latent Variable Models and the EM Algorithm\n",
    "\n",
    "# Gaussian Mixture Model\n",
    "#### Definition\n",
    "\n",
    "If the base distributions are assumed to be Gaussian with mean $\\mu_k \\text{ and covariance } \\Sigma_k$, we speak of a Gaussian Mixture Model or GMM for short\n",
    "\n",
    "$$\\Rightarrow p(x_i|\\theta) = \\sum_{k=1}^K p(z_i=k) \\mathcal{N}(x_i|\\mu_k,\\Sigma_K)$$"
   ]
  },
  {
   "cell_type": "markdown",
   "metadata": {
    "slideshow": {
     "slide_type": "fragment"
    }
   },
   "source": [
    "Increasing the number $K$ of mixtures we can approximate any density, but will encounter computational difficulties quickly.\n",
    "\n",
    "To fit the model, we need to estimate the parameters $\\theta = \\{\\mu_k, \\Sigma_k, \\pi_k\\}^{k=1,\\ldots,K}$, with $\\pi_k = p(z_i = k)$."
   ]
  },
  {
   "cell_type": "markdown",
   "metadata": {
    "slideshow": {
     "slide_type": "subslide"
    }
   },
   "source": [
    "© Olaf Wied 2018 \n",
    "\n",
    "Part II - Latent Variable Models and the EM Algorithm\n",
    "\n",
    "#### Parameter Estimation\n",
    "\n",
    "Parameter estimation using maximum-likelihood is usually straight-forward when we have complete data. It is much trickier when have missing or hidden variables.\n",
    "\n",
    "The **Expectation-Maximimization (EM)** algorithm is a simple iterative algorithm to optimize parameters while enforcing necessary constraints (such as positive definiteness for coavariance matrics etc., which is more difficult to do using methods like gradient descent)."
   ]
  },
  {
   "cell_type": "markdown",
   "metadata": {
    "slideshow": {
     "slide_type": "subslide"
    }
   },
   "source": [
    "© Olaf Wied 2018 \n",
    "\n",
    "Part II - Latent Variable Models and the EM Algorithm\n",
    "\n",
    "#### Parameter Estimation\n",
    "\n",
    "We would like to be able to maximize the log-likelihood \n",
    "\n",
    "$$l(\\theta) = \\sum_{n=1}^N \\log p(x_n|\\theta) = \\sum_{n=1}^N \\log \\left(\\sum_{z_n} p(x_n,z_n|\\theta)\\right)$$"
   ]
  },
  {
   "cell_type": "markdown",
   "metadata": {
    "slideshow": {
     "slide_type": "fragment"
    }
   },
   "source": [
    "The $\\log$ of the sum makes our life difficult. EM to the rescue!\n",
    "\n",
    "First define the **complete data log-likelihood**\n",
    "\n",
    "$$l_c(\\theta) \\mathrel{\\vcenter{:=}} \\sum_{n=1}^N \\log p(x_n, z_n|\\theta)$$\n",
    "\n",
    "Since we don't observe $z_n$, we cannot compute it. If we were to observe it though, it would be easy to maximize the likelihood!"
   ]
  },
  {
   "cell_type": "markdown",
   "metadata": {
    "slideshow": {
     "slide_type": "subslide"
    }
   },
   "source": [
    "© Olaf Wied 2018 \n",
    "\n",
    "Part II - Latent Variable Models and the EM Algorithm\n",
    "\n",
    "#### The EM algorithm\n",
    "\n",
    "The idea of the EM algorithm now is to **alternate** between \n",
    "\n",
    "1. **E-step**: inferring the hidden values (starting with some initial parameters) and \n",
    "2. **M-step**: optimizing the parameters using the computed values for the hidden variables!\n",
    "\n",
    "We will show this idea now in action for the Gaussian Mixture Model before we discuss the general EM algorithm and its convergence in more detail in the next section."
   ]
  },
  {
   "cell_type": "code",
   "execution_count": 154,
   "metadata": {
    "slideshow": {
     "slide_type": "subslide"
    }
   },
   "outputs": [],
   "source": [
    "from scipy.stats import multivariate_normal\n",
    "import numpy as np\n",
    "import matplotlib.pyplot as plt\n",
    "\n",
    "### GENERATE SOME DATA ###\n",
    "\n",
    "np.random.seed(0)\n",
    "N = 100\n",
    "#true parameters of generating distributions\n",
    "mu1 = np.array([-1.5,-1.5])\n",
    "cov1 = np.array([[1.0, 0.75],[0.75,1.0]])\n",
    "mu2 = np.array([1.5,1.5])\n",
    "cov2 = np.array([[1.0, -0.25],[-0.25,1.0]])\n",
    "#generate data\n",
    "c1 = np.array([multivariate_normal.rvs(mean=mu1, cov=cov1) for _ in range(N)]) #cluster 1\n",
    "c2 = np.array([multivariate_normal.rvs(mean=mu2, cov=cov2) for _ in range(N)]) #cluster 2\n",
    "#combined data (hidden cluster labels)\n",
    "data = np.vstack([c1,c2])"
   ]
  },
  {
   "cell_type": "code",
   "execution_count": 170,
   "metadata": {
    "slideshow": {
     "slide_type": "fragment"
    }
   },
   "outputs": [],
   "source": [
    "from matplotlib.colors import to_rgba_array\n",
    "blue,red = to_rgba_array(['blue','red'])\n",
    "cluster_colors = np.array([0.5*blue+0.5*red]*(2*N)) #add the cluster colors based on the mixing distribution"
   ]
  },
  {
   "cell_type": "code",
   "execution_count": 156,
   "metadata": {
    "slideshow": {
     "slide_type": "subslide"
    }
   },
   "outputs": [
    {
     "data": {
      "image/png": "[encoded data removed]",
      "text/plain": [
       "<Figure size 792x360 with 2 Axes>"
      ]
     },
     "metadata": {},
     "output_type": "display_data"
    }
   ],
   "source": [
    "fig, ax = plt.subplots(1, 2, figsize = (11,5))\n",
    "ax[0].scatter(c1[:,0],c1[:,1],c='r')\n",
    "ax[0].scatter(c2[:,0],c2[:,1],c='b')\n",
    "ax[0].set_title(\"With Class Labels\")\n",
    "ax[1].scatter(data[:,0],data[:,1],c=cluster_colors)\n",
    "ax[1].set_title(\"Without Class Labels\")\n",
    "plt.show()"
   ]
  },
  {
   "cell_type": "code",
   "execution_count": 157,
   "metadata": {
    "slideshow": {
     "slide_type": "subslide"
    }
   },
   "outputs": [],
   "source": [
    "# Let's define some (pretty bad) initial parameters\n",
    "a = [0.5,0.5]                     #the mixing parameter\n",
    "m = [np.array([-2,2]),            #the mean vector\n",
    "     np.array([2,-2])]\n",
    "S = [np.array([[1.0, 0.0],[0.0,1.0]]), #the covariance matrices\n",
    "     np.array([[1.0, 0.0],[0.0,1.0]])]"
   ]
  },
  {
   "cell_type": "code",
   "execution_count": 202,
   "metadata": {
    "slideshow": {
     "slide_type": "skip"
    }
   },
   "outputs": [],
   "source": [
    "def get_ellipsoid_from_cov(cov,m,ax,color):\n",
    "    from matplotlib.patches import Ellipse\n",
    "    \n",
    "    w,v, = np.linalg.eig(cov)\n",
    "    i0 = np.argmax(w)\n",
    "    i1 = np.argmin(w)\n",
    "    w_max = 2.355*np.sqrt(w[i0]) #~ about 50% confidence interval\n",
    "    w_min = 2.355*np.sqrt(w[i1])\n",
    "    v_max = v[i0]\n",
    "    v_min = v[i1]\n",
    "    angle = np.arctan2(v_max[1],v_max[0])\n",
    "    \n",
    "    if(angle < 0):\n",
    "        angle = angle + 2*np.pi;\n",
    "    angle = np.degrees(angle)\n",
    "    e = Ellipse(xy = m, width=w_min, height=w_max, angle=angle)\n",
    "    e.set_alpha(0.85)\n",
    "    e.set_edgecolor(color)\n",
    "    e.set_fill(False)\n",
    "    e.set_linewidth(2)\n",
    "    ax.add_artist(e)"
   ]
  },
  {
   "cell_type": "code",
   "execution_count": 216,
   "metadata": {
    "slideshow": {
     "slide_type": "skip"
    }
   },
   "outputs": [],
   "source": [
    "def plot_e_step(colors,m,S):\n",
    "    fig, ax = plt.subplots(1, 1, figsize = (5,5))\n",
    "    ax.scatter(data[:,0],data[:,1],c=colors)\n",
    "    get_ellipsoid_from_cov(S[0],m[0],ax,'b')\n",
    "    get_ellipsoid_from_cov(S[1],m[1],ax,'r')\n",
    "    plt.show()"
   ]
  },
  {
   "cell_type": "code",
   "execution_count": 217,
   "metadata": {
    "slideshow": {
     "slide_type": "fragment"
    }
   },
   "outputs": [
    {
     "data": {
      "image/png": "[encoded data removed]",
      "text/plain": [
       "<Figure size 360x360 with 1 Axes>"
      ]
     },
     "metadata": {},
     "output_type": "display_data"
    }
   ],
   "source": [
    "plot_e_step('k',m,S) # before the first E-step performed"
   ]
  },
  {
   "cell_type": "markdown",
   "metadata": {
    "slideshow": {
     "slide_type": "subslide"
    }
   },
   "source": [
    "© Olaf Wied 2018 \n",
    "\n",
    "Part II - Latent Variable Models and the EM Algorithm\n",
    "\n",
    "#### E-Step\n",
    "\n",
    "Remember the formula for mixture models?\n",
    "\n",
    "$$ p(z_i=k|x_i,\\theta_{t-1}) = \\frac{p(z_i=k|\\theta_{t-1})\\cdot p(x_i|z_i=k,\\theta_{t-1})}{\\sum_{l=1}^K p(z_i=l|\\theta_{t-1})\\cdot p(x_i|z_i=l,\\theta_{t-1})}$$\n",
    "\n",
    "This is it! This is the E-step for any mixture model!"
   ]
  },
  {
   "cell_type": "markdown",
   "metadata": {
    "slideshow": {
     "slide_type": "fragment"
    }
   },
   "source": [
    "Let's perform one E-step with our initial parameters... \n",
    "\n",
    "We will use the following notation:\n",
    "\n",
    "$$r_{ik} = p(z_i=k|x_i,\\theta_{t-1})$$ \n",
    "\n",
    "is sometimes called the **responsibility** of cluster $k$ for point $i$."
   ]
  },
  {
   "cell_type": "code",
   "execution_count": 204,
   "metadata": {
    "slideshow": {
     "slide_type": "subslide"
    }
   },
   "outputs": [],
   "source": [
    "def r(x,mu,cov,a,k):\n",
    "    return a[k]*multivariate_normal.pdf(x, mean=m[k], cov=cov[k]) / \\\n",
    "                (a[0]*multivariate_normal.pdf(x, mean=m[0], cov=cov[0]) +\\\n",
    "                 a[1]*multivariate_normal.pdf(x, mean=m[1], cov=cov[1]))"
   ]
  },
  {
   "cell_type": "code",
   "execution_count": 211,
   "metadata": {
    "slideshow": {
     "slide_type": "fragment"
    }
   },
   "outputs": [],
   "source": [
    "cluster_probs = r(data,m,S,a,0) #we only need to calculate r0 because r1 = (1-r0)\n",
    "cluster_colors = np.clip(np.array([prob_blue*blue + (1-prob_blue)*red \\\n",
    "                                   for prob_blue in cluster_probs]),0.0,1.0) \n",
    "\n",
    "#we clip the values to be within 0-1 range to avoid rounding erros \n",
    "#that can lead to invalid RGB colors"
   ]
  },
  {
   "cell_type": "code",
   "execution_count": 218,
   "metadata": {
    "slideshow": {
     "slide_type": "subslide"
    }
   },
   "outputs": [
    {
     "data": {
      "image/png": "[encoded data removed]",
      "text/plain": [
       "<Figure size 360x360 with 1 Axes>"
      ]
     },
     "metadata": {},
     "output_type": "display_data"
    }
   ],
   "source": [
    "plot_e_step(cluster_colors,m,S)"
   ]
  },
  {
   "cell_type": "markdown",
   "metadata": {
    "slideshow": {
     "slide_type": "subslide"
    }
   },
   "source": [
    "© Olaf Wied 2018 \n",
    "\n",
    "Part II - Latent Variable Models and the EM Algorithm\n",
    "\n",
    "#### E-Step\n",
    "\n",
    "Note that the E-Step gives us **soft clusters** because we assign each cluter a probability. Points with greater uncertainty therefore are shown as a mix of red and blue (purple).\n",
    "\n",
    "This is different from, say, K-Means which performs **hard clustering**. In fact, **K-Means** is a special case of the Gaussian Mixture Model for clustering:\n",
    "\n",
    "K-Means can be recovered from the GMM algorithm by fixing the covariance matrices to a constant diagonal and keeping the mixing parameters equal at $\\frac{1}{K}$. Now, all we need to estimate are the cluster centroids."
   ]
  },
  {
   "cell_type": "markdown",
   "metadata": {
    "slideshow": {
     "slide_type": "subslide"
    }
   },
   "source": [
    "© Olaf Wied 2018 \n",
    "\n",
    "Part II - Latent Variable Models and the EM Algorithm\n",
    "\n",
    "#### M-Step\n",
    "\n",
    "Let us return to our GMM example. Given our new cluster assignments, let us now update our parameter estimates.\n",
    "\n",
    "We can estimate our mixing parameters by simply calculating the proportion of blue and red points weighted by $r_{ik}$ (*how blue or red they are*). In other words, we calculate the average responsibility of the \"blue cluster\" and the \"red cluster\":\n",
    "\n",
    "$$ \\pi_k = p(z_i=k) = \\frac{1}{N}\\sum_{i=1}^N r_{ik}$$\n",
    "\n",
    "Next, let us derive the updated estimates for $\\mu$ and $\\Sigma$."
   ]
  },
  {
   "cell_type": "code",
   "execution_count": null,
   "metadata": {},
   "outputs": [],
   "source": []
  }
 ],
 "metadata": {
  "celltoolbar": "Slideshow",
  "kernelspec": {
   "display_name": "Python [conda env:python36]",
   "language": "python",
   "name": "conda-env-python36-py"
  },
  "language_info": {
   "codemirror_mode": {
    "name": "ipython",
    "version": 3
   },
   "file_extension": ".py",
   "mimetype": "text/x-python",
   "name": "python",
   "nbconvert_exporter": "python",
   "pygments_lexer": "ipython3",
   "version": "3.6.6"
  }
 },
 "nbformat": 4,
 "nbformat_minor": 2
}
